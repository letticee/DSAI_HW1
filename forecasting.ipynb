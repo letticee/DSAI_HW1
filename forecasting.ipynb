{
 "cells": [
  {
   "cell_type": "markdown",
   "metadata": {},
   "source": [
    "# Data Exploration"
   ]
  },
  {
   "cell_type": "code",
   "execution_count": null,
   "metadata": {
    "scrolled": false
   },
   "outputs": [],
   "source": [
    "import numpy as np\n",
    "import pandas as pd\n",
    "import matplotlib.pyplot as plt\n",
    "\n",
    "dateparse = lambda x: pd.datetime.strptime(x, '%Y%m%d')\n",
    "with open('170101_190131過去電力供需資訊.csv', 'r') as f:\n",
    "    data = pd.read_csv(f, parse_dates=['日期'], date_parser=dateparse, index_col=0)\n",
    "data['Weekday'] = data.index.weekday\n",
    "y_data = pd.Series(data['尖峰負載(MW)'],index=data.index)\n",
    "\n",
    "plt.figure(figsize = (20,5))\n",
    "plt.plot(y_data['2017'])\n",
    "plt.title('2017 Peaking Power')\n",
    "plt.figure(figsize = (20,5))\n",
    "plt.plot(y_data['2018'])\n",
    "plt.title('2018 Peaking Power')"
   ]
  },
  {
   "cell_type": "markdown",
   "metadata": {},
   "source": [
    "  * 先觀察電力尖峰負載根據時間變化的趨勢，發現在夏季明顯升高"
   ]
  },
  {
   "cell_type": "markdown",
   "metadata": {},
   "source": [
    "## 電力尖峰負載與氣溫"
   ]
  },
  {
   "cell_type": "code",
   "execution_count": null,
   "metadata": {},
   "outputs": [],
   "source": [
    "dateparse = lambda x: pd.datetime.strptime(x, '%Y/%m/%d')\n",
    "with open('Taipei_temperature.csv', 'r') as f:   \n",
    "     weather = pd.read_csv(f, parse_dates=['date'], date_parser=dateparse, index_col=0)\n",
    "temper = pd.Series(weather['Temperature'],index=weather.index)\n",
    "min_temper = pd.Series(weather['T Min'],index=weather.index)\n",
    "max_temper = pd.Series(weather['T Max'],index=weather.index)"
   ]
  },
  {
   "cell_type": "markdown",
   "metadata": {},
   "source": [
    "  * 讀入每日平均、最低、最高溫度的資料\n",
    "  * 選用台北測站的資料，因為台北是民生用電佔比最多的地區"
   ]
  },
  {
   "cell_type": "markdown",
   "metadata": {},
   "source": [
    "### 平均溫度和尖峰負載相關係數"
   ]
  },
  {
   "cell_type": "code",
   "execution_count": null,
   "metadata": {
    "scrolled": true
   },
   "outputs": [],
   "source": [
    "temper['2017'].corr(y_data['2017'])"
   ]
  },
  {
   "cell_type": "code",
   "execution_count": null,
   "metadata": {},
   "outputs": [],
   "source": [
    "temper['2018'].corr(y_data['2018'])"
   ]
  },
  {
   "cell_type": "markdown",
   "metadata": {},
   "source": [
    "### 最高溫度和尖峰負載相關係數"
   ]
  },
  {
   "cell_type": "code",
   "execution_count": null,
   "metadata": {},
   "outputs": [],
   "source": [
    "max_temper['2017'].corr(y_data['2017'])"
   ]
  },
  {
   "cell_type": "code",
   "execution_count": null,
   "metadata": {},
   "outputs": [],
   "source": [
    "max_temper['2018'].corr(y_data['2018'])"
   ]
  },
  {
   "cell_type": "markdown",
   "metadata": {},
   "source": [
    "### 最低溫度和尖峰負載相關係數"
   ]
  },
  {
   "cell_type": "code",
   "execution_count": null,
   "metadata": {},
   "outputs": [],
   "source": [
    "min_temper['2017'].corr(y_data['2017'])"
   ]
  },
  {
   "cell_type": "code",
   "execution_count": null,
   "metadata": {},
   "outputs": [],
   "source": [
    "min_temper['2018'].corr(y_data['2018'])"
   ]
  },
  {
   "cell_type": "markdown",
   "metadata": {},
   "source": [
    "  * 最低溫度相對於平均溫度和最高溫度來說，和電力尖峰負載相關性更高"
   ]
  },
  {
   "cell_type": "code",
   "execution_count": null,
   "metadata": {
    "scrolled": true
   },
   "outputs": [],
   "source": [
    "fig17 = plt.figure(figsize = (20,5))\n",
    "ax1 = fig17.add_subplot(111)\n",
    "ax1.plot(y_data['2017'],color='steelblue',label='Peaking Power')\n",
    "ax1.legend(loc='upper right')\n",
    "ax2 = ax1.twinx()\n",
    "ax2.plot(min_temper['2017'],color='coral',label='Min Temperature')\n",
    "ax2.legend(loc='upper left')\n",
    "plt.title('2017 Peaking Power and Min Temperature')\n",
    "\n",
    "fig18 = plt.figure(figsize = (20,5))\n",
    "ax1 = fig18.add_subplot(111)\n",
    "ax1.plot(y_data['2018'],color='steelblue',label='Peaking Power')\n",
    "ax1.legend(loc='upper right')\n",
    "ax2 = ax1.twinx()\n",
    "ax2.plot(min_temper['2018'],color='coral',label='Min Temperature')\n",
    "ax2.legend(loc='upper left')\n",
    "plt.title('2018 Peaking Power and Min Temperature')"
   ]
  },
  {
   "cell_type": "markdown",
   "metadata": {},
   "source": [
    "  * 由上圖可以推測每日最低溫度和電力尖峰負載正相關"
   ]
  },
  {
   "cell_type": "markdown",
   "metadata": {},
   "source": [
    "## 電力尖峰負載與星期幾"
   ]
  },
  {
   "cell_type": "code",
   "execution_count": null,
   "metadata": {
    "scrolled": true
   },
   "outputs": [],
   "source": [
    "name = ['Mon', 'Tue', 'Wed', 'Thu', 'Fri', 'Sat', 'Sun']\n",
    "y_week = [None] * 7\n",
    "plt.figure(figsize = (20,5))\n",
    "y_data1718 = y_data['2017':'2018']\n",
    "min_temper1718 = min_temper['2017':'2018']\n",
    "for day in range(7):\n",
    "    y_week[day] = y_data1718[data['Weekday'] == day]  \n",
    "    plt.plot(y_week[day], label=name[day])\n",
    "plt.legend(loc='upper right')   \n",
    "plt.title('Peaking Power on Different Weekday')"
   ]
  },
  {
   "cell_type": "markdown",
   "metadata": {},
   "source": [
    "  * 將一週 7 天的電力尖峰負載分開繪圖，發現週六、日的電力尖峰負載明顯比週間日低"
   ]
  },
  {
   "cell_type": "code",
   "execution_count": null,
   "metadata": {
    "scrolled": true
   },
   "outputs": [],
   "source": [
    "temp_week = [None] * 7\n",
    "\n",
    "for day in range(7):\n",
    "    y_week[day] = y_data1718[data['Weekday'] == day]  \n",
    "    temp_week[day] = min_temper1718[data['Weekday'] == day]  \n",
    "    fig = plt.figure(figsize = (20,5))\n",
    "    ax1 = fig.add_subplot(111)\n",
    "    ax1.plot(y_week[day],color='steelblue',label=name[day])\n",
    "    ax1.legend(loc='upper right')\n",
    "    ax2 = ax1.twinx()\n",
    "    ax2.plot(temp_week[day],color='coral',label=name[day]+'_temp')\n",
    "    ax2.legend(loc='upper left')\n",
    "    plt.title('Peaking Power and Min Temperature on Different Weekday on '+name[day])\n",
    "    \n",
    "    print(name[day],\" \",y_week[day].corr(temp_week[day]))"
   ]
  },
  {
   "cell_type": "markdown",
   "metadata": {},
   "source": [
    "  * 一週 7 天電力尖峰負載和最低溫度的相關係數和示意圖"
   ]
  },
  {
   "cell_type": "markdown",
   "metadata": {},
   "source": [
    "# Model Selection\n",
    "\n",
    "* 由上可知電力尖峰負載和最低溫度有高度正相關，又週末的數值會較週間低\n",
    "* 初步想法：\n",
    "    1. 使用 Linear Regression\n",
    "    2. 一週中每一天分開做"
   ]
  },
  {
   "cell_type": "markdown",
   "metadata": {},
   "source": [
    "## Linear Regression"
   ]
  },
  {
   "cell_type": "code",
   "execution_count": null,
   "metadata": {
    "scrolled": false
   },
   "outputs": [],
   "source": [
    "from sklearn.linear_model import LinearRegression\n",
    "\n",
    "lm_trainX = [None] * 7\n",
    "lm_trainY = [None] * 7\n",
    "lm = [None] * 7\n",
    "plt.figure(figsize = (20,20))\n",
    "for day in range(7):\n",
    "    lm_trainX[day] = np.reshape(temp_week[day].values,(len(temp_week[day].values), 1))\n",
    "    lm_trainY[day] = np.reshape(y_week[day].values,(len(y_week[day].values), 1))\n",
    "    lm[day] =  LinearRegression()\n",
    "    lm[day].fit(lm_trainX[day], lm_trainY[day])\n",
    "        \n",
    "    plt.subplot(4, 3, day+1)\n",
    "    plt.scatter(lm_trainX[day], lm_trainY[day])\n",
    "    plt.plot( lm_trainX[day], lm[day].predict( lm_trainX[day]), color='black')\n",
    "    \n",
    "    plt.title('Peaking Power and Min Temperature on '+name[day])"
   ]
  },
  {
   "cell_type": "markdown",
   "metadata": {},
   "source": [
    "* 從尖峰負載和溫度的散佈圖發現兩者的關係趨勢比起直線多了一點凹度，因此下面做了二次回歸"
   ]
  },
  {
   "cell_type": "markdown",
   "metadata": {},
   "source": [
    "## Polynomial Features"
   ]
  },
  {
   "cell_type": "code",
   "execution_count": null,
   "metadata": {},
   "outputs": [],
   "source": [
    "from sklearn.preprocessing import PolynomialFeatures\n",
    "\n",
    "lm_trainX = [None] * 7\n",
    "lm_trainX2 = [None] * 7\n",
    "lm_trainY = [None] * 7\n",
    "lm2 = [None] * 7\n",
    "poly = PolynomialFeatures(degree=2)\n",
    "plt.figure(figsize = (20,20))\n",
    "for day in range(7):\n",
    "    lm_trainX[day] = np.reshape(temp_week[day].values,(len(temp_week[day].values), 1))\n",
    "    lm_trainY[day] = np.reshape(y_week[day].values,(len(y_week[day].values), 1))\n",
    "    poly.fit(lm_trainX[day])\n",
    "    lm_trainX2[day] = poly.transform(lm_trainX[day])\n",
    "    lm2[day] =  LinearRegression()\n",
    "    lm2[day].fit(lm_trainX2[day], lm_trainY[day])\n",
    "    \n",
    "    y_predict2 = lm2[day].predict(lm_trainX2[day])\n",
    "    plt.subplot(4, 3, day+1)\n",
    "    plt.scatter(lm_trainX[day], lm_trainY[day])\n",
    "    plt.plot( np.sort(temp_week[day].values), y_predict2[np.argsort(temp_week[day].values)], color='black')\n",
    "    \n",
    "    plt.title('Peaking Power and Min Temperature on '+name[day])   "
   ]
  },
  {
   "cell_type": "markdown",
   "metadata": {},
   "source": [
    "### workday\n",
    "* 將星期一到星期五合併做二次回歸"
   ]
  },
  {
   "cell_type": "code",
   "execution_count": null,
   "metadata": {},
   "outputs": [],
   "source": [
    "y_workday =  y_data1718[(data['Weekday'] >= 0) & (data['Weekday'] <= 4)]\n",
    "temp_workday = min_temper1718[(data['Weekday'] >= 0) & (data['Weekday'] <= 4)]  \n",
    "\n",
    "from sklearn.preprocessing import PolynomialFeatures\n",
    "from sklearn.linear_model import LinearRegression\n",
    "\n",
    "poly = PolynomialFeatures(degree=2)\n",
    "\n",
    "lm_workday_trainX = np.reshape(temp_workday.values,(len(temp_workday.values), 1))\n",
    "lm_workday_trainY = np.reshape(y_workday.values,(len(y_workday.values), 1))\n",
    "poly.fit(lm_workday_trainX)\n",
    "lm_workday_trainX2 = poly.transform(lm_workday_trainX)\n",
    "lm_workday2 =  LinearRegression()\n",
    "lm_workday2.fit(lm_workday_trainX2, lm_workday_trainY)\n",
    "y_predict = lm_workday2.predict(lm_workday_trainX2)\n",
    "plt.figure()\n",
    "plt.scatter(lm_workday_trainX, lm_workday_trainY)\n",
    "plt.plot( np.sort(temp_workday.values), y_predict[np.argsort(temp_workday.values)], color='black')\n",
    " \n",
    "plt.title('Polynomial Regression of Peaking Power and Min Temperature on Workday') "
   ]
  },
  {
   "cell_type": "markdown",
   "metadata": {},
   "source": [
    "### weekend"
   ]
  },
  {
   "cell_type": "markdown",
   "metadata": {},
   "source": [
    "* 將星期六日合併做二次回歸"
   ]
  },
  {
   "cell_type": "code",
   "execution_count": null,
   "metadata": {},
   "outputs": [],
   "source": [
    "y_weekend =  y_data1718[data['Weekday'] >=5]\n",
    "temp_weekend = min_temper1718[data['Weekday'] >=5]  \n",
    "\n",
    "from sklearn.preprocessing import PolynomialFeatures\n",
    "from sklearn.linear_model import LinearRegression\n",
    "\n",
    "poly = PolynomialFeatures(degree=2)\n",
    "\n",
    "lm_weekend_trainX = np.reshape(temp_weekend.values,(len(temp_weekend.values), 1))\n",
    "lm_weekend_trainY = np.reshape(y_weekend.values,(len(y_weekend.values), 1))\n",
    "poly.fit(lm_weekend_trainX)\n",
    "lm_weekend_trainX2 = poly.transform(lm_weekend_trainX)\n",
    "lm_weekend2 =  LinearRegression()\n",
    "lm_weekend2.fit(lm_weekend_trainX2, lm_weekend_trainY)\n",
    "y_predict = lm_weekend2.predict(lm_weekend_trainX2)\n",
    "plt.figure()\n",
    "plt.scatter(lm_weekend_trainX, lm_weekend_trainY)\n",
    "plt.plot( np.sort(temp_weekend.values), y_predict[np.argsort(temp_weekend.values)], color='black')\n",
    " \n",
    "plt.title('Polynomial Regression of Peaking Power and Min Temperature on weekend') "
   ]
  },
  {
   "cell_type": "markdown",
   "metadata": {},
   "source": [
    "## Evaluation\n",
    "* 以 2019/01 的資料比較不同種 model 方法的RMSE\n",
    "    1. Linear Regression ( 線性回歸 ) / 一週 7 個 model\n",
    "    2. Polynomial Features ( 二次回歸 ) / 一週 7 個 model\n",
    "    3. Polynomial Features ( 二次回歸 ) / workday\n",
    "    4. Polynomial Features ( 二次回歸 ) / weekend"
   ]
  },
  {
   "cell_type": "code",
   "execution_count": null,
   "metadata": {},
   "outputs": [],
   "source": [
    "def rmse(predictions, targets):\n",
    "    return np.sqrt(((predictions - targets) ** 2).mean())\n",
    "\n",
    "y_data19 = y_data['2019']\n",
    "min_temper19 = min_temper['2019']\n",
    "y_week19 = [None] * 7\n",
    "temp_week19 = [None] * 7\n",
    "\n",
    "lm_testX = [None] * 7\n",
    "lm_testY = [None] * 7\n",
    "y_pred_test = [None] * 7\n",
    "err_poly = [None] * 7\n",
    "pred = []\n",
    "ori = []\n",
    "\n",
    "err_lr = [None] * 7 \n",
    "for day in range(7):\n",
    "    y_week19[day] = y_data19[data['Weekday'] == day]  \n",
    "    temp_week19[day] = min_temper19[data['Weekday'] == day] \n",
    "    ori = np.hstack((ori,y_week19[day].values))\n",
    "    \n",
    "    lm_testX[day] = np.reshape(temp_week19[day].values,(len(temp_week19[day].values), 1))\n",
    "    lm_testY[day] = np.reshape(y_week19[day].values,(len(y_week19[day].values), 1))\n",
    "    y_pred_test[day] = lm[day].predict(lm_testX[day])\n",
    "    pred = np.hstack((pred,np.hstack(y_pred_test[day])))\n",
    "    err_lr[day] = rmse(y_pred_test[day].T,y_week19[day].values.T)\n",
    "err_lr "
   ]
  },
  {
   "cell_type": "markdown",
   "metadata": {},
   "source": [
    " * 線性回歸，一天一個 model - 一週七天"
   ]
  },
  {
   "cell_type": "code",
   "execution_count": null,
   "metadata": {},
   "outputs": [],
   "source": [
    "err_lr_all = rmse(ori,pred)\n",
    "err_lr_all"
   ]
  },
  {
   "cell_type": "markdown",
   "metadata": {},
   "source": [
    " * 線性回歸，一天一個 model - 整體"
   ]
  },
  {
   "cell_type": "code",
   "execution_count": null,
   "metadata": {
    "scrolled": true
   },
   "outputs": [],
   "source": [
    "lm_testX2 = [None] * 7\n",
    "y_pred_test = [None] * 7\n",
    "err_poly = [None] * 7\n",
    "pred = []\n",
    "ori = []\n",
    "for day in range(7):\n",
    "    ori = np.hstack((ori,y_week19[day].values))\n",
    "    \n",
    "    lm_testX[day] = np.reshape(temp_week19[day].values,(len(temp_week19[day].values), 1))\n",
    "    lm_testY[day] = np.reshape(y_week19[day].values,(len(y_week19[day].values), 1))\n",
    "    poly.fit(lm_testX[day])\n",
    "    lm_testX2[day] = poly.transform(lm_testX[day])\n",
    "    y_pred_test[day] = lm2[day].predict(lm_testX2[day])\n",
    "    pred = np.hstack((pred,np.hstack(y_pred_test[day])))\n",
    "    err_poly[day] = rmse(y_pred_test[day].T,y_week19[day].values.T)\n",
    "err_poly"
   ]
  },
  {
   "cell_type": "markdown",
   "metadata": {},
   "source": [
    " * 二次回歸，一天一個 model - 一週七天"
   ]
  },
  {
   "cell_type": "code",
   "execution_count": null,
   "metadata": {},
   "outputs": [],
   "source": [
    "err_poly_all = rmse(ori,pred)\n",
    "err_poly_all"
   ]
  },
  {
   "cell_type": "markdown",
   "metadata": {},
   "source": [
    " * 二次回歸，一天一個 model - 整體"
   ]
  },
  {
   "cell_type": "code",
   "execution_count": null,
   "metadata": {},
   "outputs": [],
   "source": [
    "ori = []\n",
    "pred = []\n",
    "for i in range(5):\n",
    "    ori = np.hstack((ori, y_week19[i].values))\n",
    "    pred = np.hstack((pred, np.hstack(y_pred_test[i])))\n",
    "err_poly = rmse(ori,pred)\n",
    "err_poly"
   ]
  },
  {
   "cell_type": "markdown",
   "metadata": {},
   "source": [
    " * 二次回歸，一天一個 model - 週一到五 - 整體"
   ]
  },
  {
   "cell_type": "code",
   "execution_count": null,
   "metadata": {},
   "outputs": [],
   "source": [
    "ori = np.hstack((y_week19[5].values, y_week19[6].values))\n",
    "pred = np.hstack((np.hstack(y_pred_test[5]), np.hstack(y_pred_test[6])))\n",
    "err_poly = rmse(ori,pred)\n",
    "err_poly"
   ]
  },
  {
   "cell_type": "markdown",
   "metadata": {},
   "source": [
    " * 二次回歸，週六日一天一 model - 整體"
   ]
  },
  {
   "cell_type": "code",
   "execution_count": null,
   "metadata": {},
   "outputs": [],
   "source": [
    "y_workday19 = y_data19[(data['Weekday'] >= 0) & (data['Weekday'] <= 4)]  \n",
    "temp_workday19 = min_temper19[(data['Weekday'] >= 0) & (data['Weekday'] <= 4)] \n",
    "    \n",
    "lm_workday_testX = np.reshape(temp_workday19.values,(len(temp_workday19.values), 1))\n",
    "lm_workday_testY = np.reshape(y_workday19.values,(len(y_workday19.values), 1))\n",
    "poly.fit(lm_workday_testX)\n",
    "lm_workday_testX2 = poly.transform(lm_workday_testX)\n",
    "y_pred_test = lm_workday2.predict(lm_workday_testX2)\n",
    "    \n",
    "err_workday = rmse(y_pred_test.T,y_workday19.values.T)\n",
    "err_workday"
   ]
  },
  {
   "cell_type": "markdown",
   "metadata": {},
   "source": [
    " * 二次回歸，週一到五一個 model"
   ]
  },
  {
   "cell_type": "code",
   "execution_count": null,
   "metadata": {},
   "outputs": [],
   "source": [
    "y_weekend19 = y_data19[data['Weekday'] >= 5]  \n",
    "temp_weekend19 = min_temper19[data['Weekday'] >= 5] \n",
    "    \n",
    "lm_weekend_testX = np.reshape(temp_weekend19.values,(len(temp_weekend19.values), 1))\n",
    "lm_weekend_testY = np.reshape(y_weekend19.values,(len(y_weekend19.values), 1))\n",
    "poly.fit(lm_weekend_testX)\n",
    "lm_weekend_testX2 = poly.transform(lm_weekend_testX)\n",
    "y_pred_test = lm_weekend2.predict(lm_weekend_testX2)\n",
    "    \n",
    "err_weekend = rmse(y_pred_test.T,y_weekend19.values.T)\n",
    "err_weekend"
   ]
  },
  {
   "cell_type": "markdown",
   "metadata": {},
   "source": [
    " * 二次回歸，週六日一個 model"
   ]
  },
  {
   "cell_type": "markdown",
   "metadata": {},
   "source": [
    "* 由上面三筆 RMSE 發現\n",
    "    1. 二次回歸整體而言效果較線性回歸好\n",
    "    2. 將週一到週五用一個 model 預測，誤差較分成 5 個 model 的整體誤差差不多\n",
    "    3. 將週末分成 2 個 model 預測，誤差明顯較用一個 model 的整體誤差小\n",
    "* 因此決定採用 - 二次回歸 / 一天一個 mode"
   ]
  },
  {
   "cell_type": "markdown",
   "metadata": {},
   "source": [
    "# Prediction\n",
    "\n",
    "* 根據天氣預報中最高最低氣溫的平均預測該日電力尖峰負載\n",
    "* [氣溫資料來源 -  4/1 的１週預報](https://www.cwb.gov.tw/V7/forecast/taiwan/Taipei_City.htm)"
   ]
  },
  {
   "cell_type": "code",
   "execution_count": null,
   "metadata": {},
   "outputs": [],
   "source": [
    "dateparse = lambda x: pd.datetime.strptime(x, '%Y%m%d')\n",
    "with open('201904_temp_gov.csv', 'r') as f:   \n",
    "     weather1904 = pd.read_csv(f, parse_dates=['date'], date_parser=dateparse, index_col=0)\n",
    "max_temper1904 = pd.Series(weather1904['T Max'],index=weather1904.index)\n",
    "min_temper1904 = pd.Series(weather1904['T Min'],index=weather1904.index)\n",
    "#temper1904 = (max_temper1904+min_temper1904)/2\n",
    "\n",
    "weekdayr1904 = weather1904.index.weekday\n",
    "weather1904.head(7)    "
   ]
  },
  {
   "cell_type": "markdown",
   "metadata": {},
   "source": [
    "* 因為 2019/4/4 - 2019/4/7 是連假，根據 2017、2018 的清明連假數據顯示連假期間電力尖峰負載也會接近假日的趨勢，因此將他們的 weekday 改為星期六日日日"
   ]
  },
  {
   "cell_type": "code",
   "execution_count": null,
   "metadata": {},
   "outputs": [],
   "source": [
    "weekdayr1904.values[2] = 5\n",
    "weekdayr1904.values[3] = 6\n",
    "weekdayr1904.values[4] = 6\n",
    "weekdayr1904"
   ]
  },
  {
   "cell_type": "markdown",
   "metadata": {},
   "source": [
    "### Test\n",
    " * 使用 台灣電力公司_未來一週電力供需預測 來測試"
   ]
  },
  {
   "cell_type": "code",
   "execution_count": null,
   "metadata": {},
   "outputs": [],
   "source": [
    "y_1904 = [28400,28200,25700,24600,24300,24500,28300]\n",
    "x_1904 = [None] * len(weather1904)\n",
    "min_temper1904_2 = [None] * len(weather1904)\n",
    "y_pred_1904 = np.zeros(len(weather1904))\n",
    "ori = []\n",
    "pred = []\n",
    "for day in range(len(weather1904)):\n",
    "    x_1904[day] = np.reshape(min_temper1904[day], (1, -1))\n",
    "    ori = np.hstack((ori,y_1904[day]))\n",
    "    poly.fit(x_1904[day])\n",
    "    min_temper1904_2[day] = poly.transform(x_1904[day])\n",
    "    y_pred_1904[day] = lm2[weekdayr1904[day]].predict(min_temper1904_2[day])\n",
    "    pred = np.hstack((pred,y_pred_1904[day]))\n",
    "    \n",
    "y_pred_1904"
   ]
  },
  {
   "cell_type": "code",
   "execution_count": null,
   "metadata": {},
   "outputs": [],
   "source": [
    "err_pred = [None] * 7 \n",
    "for day in range(len(weather1904)):\n",
    "    err_pred[day] = rmse(y_pred_1904[day],y_1904[day])\n",
    "err_pred"
   ]
  },
  {
   "cell_type": "code",
   "execution_count": null,
   "metadata": {},
   "outputs": [],
   "source": [
    "err_pred_all = rmse(ori, pred)\n",
    "err_pred_all"
   ]
  },
  {
   "cell_type": "markdown",
   "metadata": {},
   "source": [
    "* 和未來一週電力供需預測做 RMSE 結果 (分開 / 整體)"
   ]
  },
  {
   "cell_type": "markdown",
   "metadata": {},
   "source": [
    "## Output result"
   ]
  },
  {
   "cell_type": "code",
   "execution_count": null,
   "metadata": {},
   "outputs": [],
   "source": [
    "result = pd.DataFrame()\n",
    "result['peak_load(MW)'] = (y_pred_1904).astype(np.int)\n",
    "result.index = weather1904.index\n",
    "\n",
    "result.head(7)   "
   ]
  },
  {
   "cell_type": "code",
   "execution_count": null,
   "metadata": {},
   "outputs": [],
   "source": [
    "with open('submission.csv', 'w', newline='\\n') as f:\n",
    "    result.to_csv(f,date_format='%Y%m%d')"
   ]
  },
  {
   "cell_type": "code",
   "execution_count": null,
   "metadata": {},
   "outputs": [],
   "source": []
  }
 ],
 "metadata": {
  "kernelspec": {
   "display_name": "Python 3",
   "language": "python",
   "name": "python3"
  },
  "language_info": {
   "codemirror_mode": {
    "name": "ipython",
    "version": 3
   },
   "file_extension": ".py",
   "mimetype": "text/x-python",
   "name": "python",
   "nbconvert_exporter": "python",
   "pygments_lexer": "ipython3",
   "version": "3.6.8"
  }
 },
 "nbformat": 4,
 "nbformat_minor": 2
}
